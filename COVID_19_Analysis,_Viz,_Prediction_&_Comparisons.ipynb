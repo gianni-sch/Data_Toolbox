{
  "nbformat": 4,
  "nbformat_minor": 0,
  "metadata": {
    "kernelspec": {
      "language": "python",
      "display_name": "Python 3",
      "name": "python3"
    },
    "language_info": {
      "pygments_lexer": "ipython3",
      "nbconvert_exporter": "python",
      "version": "3.6.4",
      "file_extension": ".py",
      "codemirror_mode": {
        "name": "ipython",
        "version": 3
      },
      "name": "python",
      "mimetype": "text/x-python"
    },
    "colab": {
      "name": "COVID-19 - Analysis, Viz, Prediction & Comparisons.ipynb",
      "provenance": [],
      "toc_visible": true,
      "include_colab_link": true
    }
  },
  "cells": [
    {
      "cell_type": "markdown",
      "metadata": {
        "id": "view-in-github",
        "colab_type": "text"
      },
      "source": [
        "<a href=\"https://colab.research.google.com/github/gianni-sch/Data_Toolbox/blob/master/COVID_19_Analysis%2C_Viz%2C_Prediction_%26_Comparisons.ipynb\" target=\"_parent\"><img src=\"https://colab.research.google.com/assets/colab-badge.svg\" alt=\"Open In Colab\"/></a>"
      ]
    },
    {
      "cell_type": "markdown",
      "metadata": {
        "trusted": true,
        "id": "a3X2___K-fL7",
        "colab_type": "text"
      },
      "source": [
        "# Corona Virus"
      ]
    },
    {
      "cell_type": "markdown",
      "metadata": {
        "id": "7pDpvlLR-fL_",
        "colab_type": "text"
      },
      "source": [
        "* Coronaviruses are **zoonotic** viruses (means transmitted between animals and people).  \n",
        "* Symptoms include from fever, cough, respiratory symptoms, and breathing difficulties. \n",
        "* In severe cases, it can cause pneumonia, severe acute respiratory syndrome (SARS), kidney failure and even death.\n",
        "\n",
        "* A **novel coronavirus (nCoV)** is a new strain that has not been previously identified in humans."
      ]
    },
    {
      "cell_type": "markdown",
      "metadata": {
        "id": "YWMShSRR-fMB",
        "colab_type": "text"
      },
      "source": [
        "# COVID-19"
      ]
    },
    {
      "cell_type": "markdown",
      "metadata": {
        "id": "ELrMhMN8-fMD",
        "colab_type": "text"
      },
      "source": [
        "* Corona Virus Disease 2019\n",
        "* Caused by a **SARS-COV-2** corona virus.  \n",
        "* First identified in **Wuhan, Hubei, China**.  \n",
        "* Earliest reported symptoms occurred on **1 December 2019**. \n",
        "* First cases were linked to contact with the Huanan Seafood Wholesale Market, which sold live animals. \n",
        "* On 30 January the WHO declared the outbreak to be a Public Health Emergency of International Concern "
      ]
    },
    {
      "cell_type": "markdown",
      "metadata": {
        "id": "C4agIeFc-fME",
        "colab_type": "text"
      },
      "source": [
        "# Libraries"
      ]
    },
    {
      "cell_type": "markdown",
      "metadata": {
        "id": "1ym8vsmm-fMG",
        "colab_type": "text"
      },
      "source": [
        "### Install"
      ]
    },
    {
      "cell_type": "markdown",
      "metadata": {
        "id": "5Se3I5rc_G4s",
        "colab_type": "text"
      },
      "source": [
        "**Mount Drive**"
      ]
    },
    {
      "cell_type": "code",
      "metadata": {
        "id": "oSWM2O3O-wPM",
        "colab_type": "code",
        "outputId": "83584fc9-07ba-46eb-871a-9267e31fd47e",
        "colab": {
          "base_uri": "https://localhost:8080/",
          "height": 122
        }
      },
      "source": [
        "from google.colab import drive\n",
        "drive.mount('/content/drive')"
      ],
      "execution_count": 0,
      "outputs": [
        {
          "output_type": "stream",
          "text": [
            "Go to this URL in a browser: https://accounts.google.com/o/oauth2/auth?client_id=947318989803-6bn6qk8qdgf4n4g3pfee6491hc0brc4i.apps.googleusercontent.com&redirect_uri=urn%3aietf%3awg%3aoauth%3a2.0%3aoob&response_type=code&scope=email%20https%3a%2f%2fwww.googleapis.com%2fauth%2fdocs.test%20https%3a%2f%2fwww.googleapis.com%2fauth%2fdrive%20https%3a%2f%2fwww.googleapis.com%2fauth%2fdrive.photos.readonly%20https%3a%2f%2fwww.googleapis.com%2fauth%2fpeopleapi.readonly\n",
            "\n",
            "Enter your authorization code:\n",
            "··········\n",
            "Mounted at /content/drive\n"
          ],
          "name": "stdout"
        }
      ]
    },
    {
      "cell_type": "code",
      "metadata": {
        "trusted": true,
        "_kg_hide-output": true,
        "_kg_hide-input": true,
        "id": "RQiFsA_D-fMI",
        "colab_type": "code",
        "outputId": "9e3be2a6-f2d5-487a-8f3f-10d6faf9ec4e",
        "colab": {}
      },
      "source": [
        "# install calmap\n",
        "! pip install calmap"
      ],
      "execution_count": 0,
      "outputs": [
        {
          "output_type": "stream",
          "text": [
            "Collecting calmap\n",
            "  Downloading https://files.pythonhosted.org/packages/60/7a/3340f348c4826fad190a265290ade1b7fbfbb311c84e27d82fb43e12d579/calmap-0.0.7-py2.py3-none-any.whl\n",
            "Requirement already satisfied: pandas in /opt/conda/lib/python3.6/site-packages (from calmap) (0.25.3)\n",
            "Requirement already satisfied: matplotlib in /opt/conda/lib/python3.6/site-packages (from calmap) (3.0.3)\n",
            "Requirement already satisfied: numpy in /opt/conda/lib/python3.6/site-packages (from calmap) (1.18.1)\n",
            "Requirement already satisfied: python-dateutil>=2.6.1 in /opt/conda/lib/python3.6/site-packages (from pandas->calmap) (2.8.1)\n",
            "Requirement already satisfied: pytz>=2017.2 in /opt/conda/lib/python3.6/site-packages (from pandas->calmap) (2019.3)\n",
            "Requirement already satisfied: cycler>=0.10 in /opt/conda/lib/python3.6/site-packages (from matplotlib->calmap) (0.10.0)\n",
            "Requirement already satisfied: kiwisolver>=1.0.1 in /opt/conda/lib/python3.6/site-packages (from matplotlib->calmap) (1.1.0)\n",
            "Requirement already satisfied: pyparsing!=2.0.4,!=2.1.2,!=2.1.6,>=2.0.1 in /opt/conda/lib/python3.6/site-packages (from matplotlib->calmap) (2.4.6)\n",
            "Requirement already satisfied: six>=1.5 in /opt/conda/lib/python3.6/site-packages (from python-dateutil>=2.6.1->pandas->calmap) (1.14.0)\n",
            "Requirement already satisfied: setuptools in /opt/conda/lib/python3.6/site-packages (from kiwisolver>=1.0.1->matplotlib->calmap) (44.0.0.post20200106)\n",
            "Installing collected packages: calmap\n",
            "Successfully installed calmap-0.0.7\n"
          ],
          "name": "stdout"
        }
      ]
    },
    {
      "cell_type": "markdown",
      "metadata": {
        "id": "mRCdmIWx-fMR",
        "colab_type": "text"
      },
      "source": [
        "### Import"
      ]
    },
    {
      "cell_type": "code",
      "metadata": {
        "_uuid": "8f2839f25d086af736a60e9eeb907d3b93b6e0e5",
        "_cell_guid": "b1076dfc-b9ad-4769-8c92-a6c4dae69d19",
        "trusted": true,
        "_kg_hide-input": true,
        "_kg_hide-output": true,
        "id": "mR1A2vjg-fMS",
        "colab_type": "code",
        "colab": {}
      },
      "source": [
        "# essential libraries\n",
        "import json\n",
        "import random\n",
        "from urllib.request import urlopen\n",
        "\n",
        "# storing and anaysis\n",
        "import numpy as np\n",
        "import pandas as pd\n",
        "\n",
        "# visualization\n",
        "import matplotlib.pyplot as plt\n",
        "import seaborn as sns\n",
        "import plotly.express as px\n",
        "import plotly.graph_objs as go\n",
        "import plotly.figure_factory as ff\n",
        "import calmap\n",
        "import folium\n",
        "\n",
        "# color pallette\n",
        "cnf = '#393e46' # confirmed - grey\n",
        "dth = '#ff2e63' # death - red\n",
        "rec = '#21bf73' # recovered - cyan\n",
        "act = '#fe9801' # active case - yellow\n",
        "\n",
        "# converter\n",
        "from pandas.plotting import register_matplotlib_converters\n",
        "register_matplotlib_converters()   \n",
        "\n",
        "# hide warnings\n",
        "import warnings\n",
        "warnings.filterwarnings('ignore')\n",
        "\n",
        "# html embedding\n",
        "from IPython.display import Javascript\n",
        "from IPython.core.display import display, HTML"
      ],
      "execution_count": 0,
      "outputs": []
    },
    {
      "cell_type": "markdown",
      "metadata": {
        "id": "zr4BYmC_-fMY",
        "colab_type": "text"
      },
      "source": [
        "# Dataset"
      ]
    },
    {
      "cell_type": "code",
      "metadata": {
        "trusted": true,
        "_kg_hide-input": true,
        "_kg_hide-output": false,
        "id": "zAdYK28m-fMb",
        "colab_type": "code",
        "outputId": "c518bb95-5a81-47df-9bac-9171104a0edd",
        "colab": {}
      },
      "source": [
        "# list files\n",
        "!ls ../input/corona-virus-report"
      ],
      "execution_count": 0,
      "outputs": [
        {
          "output_type": "stream",
          "text": [
            "covid_19_clean_complete.csv\r\n"
          ],
          "name": "stdout"
        }
      ]
    },
    {
      "cell_type": "code",
      "metadata": {
        "_kg_hide-input": true,
        "trusted": true,
        "id": "4C0uedGj-fMh",
        "colab_type": "code",
        "outputId": "ba5c3e9f-0d23-4d6b-bd65-1e8f03d3fded",
        "colab": {}
      },
      "source": [
        "# importing datasets\n",
        "full_table = pd.read_csv('../input/corona-virus-report/covid_19_clean_complete.csv', \n",
        "                         parse_dates=['Date'])\n",
        "full_table.head()"
      ],
      "execution_count": 0,
      "outputs": [
        {
          "output_type": "execute_result",
          "data": {
            "text/plain": [
              "  Province/State Country/Region      Lat      Long       Date  Confirmed  \\\n",
              "0            NaN       Thailand  15.0000  101.0000 2020-01-22          2   \n",
              "1            NaN          Japan  36.0000  138.0000 2020-01-22          2   \n",
              "2            NaN      Singapore   1.2833  103.8333 2020-01-22          0   \n",
              "3            NaN          Nepal  28.1667   84.2500 2020-01-22          0   \n",
              "4            NaN       Malaysia   2.5000  112.5000 2020-01-22          0   \n",
              "\n",
              "   Deaths  Recovered  \n",
              "0       0          0  \n",
              "1       0          0  \n",
              "2       0          0  \n",
              "3       0          0  \n",
              "4       0          0  "
            ],
            "text/html": [
              "<div>\n",
              "<style scoped>\n",
              "    .dataframe tbody tr th:only-of-type {\n",
              "        vertical-align: middle;\n",
              "    }\n",
              "\n",
              "    .dataframe tbody tr th {\n",
              "        vertical-align: top;\n",
              "    }\n",
              "\n",
              "    .dataframe thead th {\n",
              "        text-align: right;\n",
              "    }\n",
              "</style>\n",
              "<table border=\"1\" class=\"dataframe\">\n",
              "  <thead>\n",
              "    <tr style=\"text-align: right;\">\n",
              "      <th></th>\n",
              "      <th>Province/State</th>\n",
              "      <th>Country/Region</th>\n",
              "      <th>Lat</th>\n",
              "      <th>Long</th>\n",
              "      <th>Date</th>\n",
              "      <th>Confirmed</th>\n",
              "      <th>Deaths</th>\n",
              "      <th>Recovered</th>\n",
              "    </tr>\n",
              "  </thead>\n",
              "  <tbody>\n",
              "    <tr>\n",
              "      <th>0</th>\n",
              "      <td>NaN</td>\n",
              "      <td>Thailand</td>\n",
              "      <td>15.0000</td>\n",
              "      <td>101.0000</td>\n",
              "      <td>2020-01-22</td>\n",
              "      <td>2</td>\n",
              "      <td>0</td>\n",
              "      <td>0</td>\n",
              "    </tr>\n",
              "    <tr>\n",
              "      <th>1</th>\n",
              "      <td>NaN</td>\n",
              "      <td>Japan</td>\n",
              "      <td>36.0000</td>\n",
              "      <td>138.0000</td>\n",
              "      <td>2020-01-22</td>\n",
              "      <td>2</td>\n",
              "      <td>0</td>\n",
              "      <td>0</td>\n",
              "    </tr>\n",
              "    <tr>\n",
              "      <th>2</th>\n",
              "      <td>NaN</td>\n",
              "      <td>Singapore</td>\n",
              "      <td>1.2833</td>\n",
              "      <td>103.8333</td>\n",
              "      <td>2020-01-22</td>\n",
              "      <td>0</td>\n",
              "      <td>0</td>\n",
              "      <td>0</td>\n",
              "    </tr>\n",
              "    <tr>\n",
              "      <th>3</th>\n",
              "      <td>NaN</td>\n",
              "      <td>Nepal</td>\n",
              "      <td>28.1667</td>\n",
              "      <td>84.2500</td>\n",
              "      <td>2020-01-22</td>\n",
              "      <td>0</td>\n",
              "      <td>0</td>\n",
              "      <td>0</td>\n",
              "    </tr>\n",
              "    <tr>\n",
              "      <th>4</th>\n",
              "      <td>NaN</td>\n",
              "      <td>Malaysia</td>\n",
              "      <td>2.5000</td>\n",
              "      <td>112.5000</td>\n",
              "      <td>2020-01-22</td>\n",
              "      <td>0</td>\n",
              "      <td>0</td>\n",
              "      <td>0</td>\n",
              "    </tr>\n",
              "  </tbody>\n",
              "</table>\n",
              "</div>"
            ]
          },
          "metadata": {
            "tags": []
          },
          "execution_count": 4
        }
      ]
    },
    {
      "cell_type": "code",
      "metadata": {
        "trusted": true,
        "_kg_hide-input": true,
        "id": "ZAAwEQWe-fMq",
        "colab_type": "code",
        "outputId": "dfaf70de-66c4-4c4e-8dac-ffc67d386e21",
        "colab": {}
      },
      "source": [
        "# dataframe info\n",
        "full_table.info()"
      ],
      "execution_count": 0,
      "outputs": [
        {
          "output_type": "stream",
          "text": [
            "<class 'pandas.core.frame.DataFrame'>\n",
            "RangeIndex: 11960 entries, 0 to 11959\n",
            "Data columns (total 8 columns):\n",
            "Province/State    5876 non-null object\n",
            "Country/Region    11960 non-null object\n",
            "Lat               11960 non-null float64\n",
            "Long              11960 non-null float64\n",
            "Date              11960 non-null datetime64[ns]\n",
            "Confirmed         11960 non-null int64\n",
            "Deaths            11960 non-null int64\n",
            "Recovered         11960 non-null int64\n",
            "dtypes: datetime64[ns](1), float64(2), int64(3), object(2)\n",
            "memory usage: 747.6+ KB\n"
          ],
          "name": "stdout"
        }
      ]
    },
    {
      "cell_type": "code",
      "metadata": {
        "trusted": true,
        "_kg_hide-input": true,
        "id": "-I-dud9g-fMx",
        "colab_type": "code",
        "outputId": "9f5e9f1a-aad1-4ed7-de53-35bd50284ff5",
        "colab": {}
      },
      "source": [
        "# checking for missing value\n",
        "full_table.isna().sum()"
      ],
      "execution_count": 0,
      "outputs": [
        {
          "output_type": "execute_result",
          "data": {
            "text/plain": [
              "Province/State    6084\n",
              "Country/Region       0\n",
              "Lat                  0\n",
              "Long                 0\n",
              "Date                 0\n",
              "Confirmed            0\n",
              "Deaths               0\n",
              "Recovered            0\n",
              "dtype: int64"
            ]
          },
          "metadata": {
            "tags": []
          },
          "execution_count": 6
        }
      ]
    },
    {
      "cell_type": "markdown",
      "metadata": {
        "id": "kAtFoN4s-fM3",
        "colab_type": "text"
      },
      "source": [
        "# Preprocessing"
      ]
    },
    {
      "cell_type": "markdown",
      "metadata": {
        "id": "qUAotVt3-fM8",
        "colab_type": "text"
      },
      "source": [
        "### Cleaning Data"
      ]
    },
    {
      "cell_type": "code",
      "metadata": {
        "trusted": true,
        "_kg_hide-input": true,
        "_kg_hide-output": true,
        "id": "iDVXKGIx-fM9",
        "colab_type": "code",
        "colab": {}
      },
      "source": [
        "# cases \n",
        "cases = ['Confirmed', 'Deaths', 'Recovered', 'Active']\n",
        "\n",
        "# Active Case = confirmed - deaths - recovered\n",
        "full_table['Active'] = full_table['Confirmed'] - full_table['Deaths'] - full_table['Recovered']\n",
        "\n",
        "# replacing Mainland china with just China\n",
        "full_table['Country/Region'] = full_table['Country/Region'].replace('Mainland China', 'China')\n",
        "\n",
        "# filling missing values \n",
        "full_table[['Province/State']] = full_table[['Province/State']].fillna('')\n",
        "full_table[cases] = full_table[cases].fillna(0)"
      ],
      "execution_count": 0,
      "outputs": []
    },
    {
      "cell_type": "markdown",
      "metadata": {
        "id": "CmULeEOx-fNE",
        "colab_type": "text"
      },
      "source": [
        "### Derived Tables"
      ]
    },
    {
      "cell_type": "code",
      "metadata": {
        "trusted": true,
        "_kg_hide-input": true,
        "id": "Y-NsdjhO-fNG",
        "colab_type": "code",
        "colab": {}
      },
      "source": [
        "# cases in the ships\n",
        "ship = full_table[full_table['Province/State'].str.contains('Grand Princess')|full_table['Province/State'].str.contains('Diamond Princess cruise ship')]\n",
        "\n",
        "# china and the row\n",
        "china = full_table[full_table['Country/Region']=='China']\n",
        "row = full_table[full_table['Country/Region']!='China']\n",
        "\n",
        "# latest\n",
        "full_latest = full_table[full_table['Date'] == max(full_table['Date'])].reset_index()\n",
        "china_latest = full_latest[full_latest['Country/Region']=='China']\n",
        "row_latest = full_latest[full_latest['Country/Region']!='China']\n",
        "\n",
        "# latest condensed\n",
        "full_latest_grouped = full_latest.groupby('Country/Region')['Confirmed', 'Deaths', 'Recovered', 'Active'].sum().reset_index()\n",
        "china_latest_grouped = china_latest.groupby('Province/State')['Confirmed', 'Deaths', 'Recovered', 'Active'].sum().reset_index()\n",
        "row_latest_grouped = row_latest.groupby('Country/Region')['Confirmed', 'Deaths', 'Recovered', 'Active'].sum().reset_index()"
      ],
      "execution_count": 0,
      "outputs": []
    },
    {
      "cell_type": "markdown",
      "metadata": {
        "id": "yt5t1vqm-fNL",
        "colab_type": "text"
      },
      "source": [
        "# Latest Data"
      ]
    },
    {
      "cell_type": "markdown",
      "metadata": {
        "id": "RTWCLJWW-fNN",
        "colab_type": "text"
      },
      "source": [
        "### Latest Complete Data"
      ]
    },
    {
      "cell_type": "code",
      "metadata": {
        "trusted": true,
        "_kg_hide-input": true,
        "id": "s5w2tUbP-fNP",
        "colab_type": "code",
        "colab": {}
      },
      "source": [
        "temp = full_table.groupby(['Country/Region', 'Province/State'])['Confirmed', 'Deaths', 'Recovered', 'Active'].max()\n",
        "temp.style.background_gradient(cmap='Reds')"
      ],
      "execution_count": 0,
      "outputs": []
    },
    {
      "cell_type": "markdown",
      "metadata": {
        "id": "clpIhX21-fNU",
        "colab_type": "text"
      },
      "source": [
        "### Latest Condensed Data"
      ]
    },
    {
      "cell_type": "code",
      "metadata": {
        "trusted": true,
        "_kg_hide-input": true,
        "id": "9NDTEJhm-fNV",
        "colab_type": "code",
        "colab": {}
      },
      "source": [
        "temp = full_table.groupby('Date')['Confirmed', 'Deaths', 'Recovered', 'Active'].sum().reset_index()\n",
        "temp = temp[temp['Date']==max(temp['Date'])].reset_index(drop=True)\n",
        "temp.style.background_gradient(cmap='Pastel1')"
      ],
      "execution_count": 0,
      "outputs": []
    },
    {
      "cell_type": "code",
      "metadata": {
        "_kg_hide-input": true,
        "trusted": true,
        "id": "3hlxvlUb-fNb",
        "colab_type": "code",
        "colab": {}
      },
      "source": [
        "tm = temp.melt(id_vars=\"Date\", value_vars=['Active', 'Deaths', 'Recovered'])\n",
        "fig = px.treemap(tm, path=[\"variable\"], values=\"value\", height=400, width=600,\n",
        "                 color_discrete_sequence=[rec, act, dth])\n",
        "fig.show()"
      ],
      "execution_count": 0,
      "outputs": []
    },
    {
      "cell_type": "markdown",
      "metadata": {
        "id": "b4VDDKBG-fNg",
        "colab_type": "text"
      },
      "source": [
        "# Country wise Data"
      ]
    },
    {
      "cell_type": "markdown",
      "metadata": {
        "id": "qYFxes2e-fNi",
        "colab_type": "text"
      },
      "source": [
        "### In each country"
      ]
    },
    {
      "cell_type": "code",
      "metadata": {
        "trusted": true,
        "_kg_hide-input": true,
        "id": "xpfboMbJ-fNj",
        "colab_type": "code",
        "colab": {}
      },
      "source": [
        "temp_f = full_latest_grouped.sort_values(by='Confirmed', ascending=False)\n",
        "temp_f = temp_f.reset_index(drop=True)\n",
        "temp_f.style.background_gradient(cmap='Reds')"
      ],
      "execution_count": 0,
      "outputs": []
    },
    {
      "cell_type": "markdown",
      "metadata": {
        "id": "wApuH5uZ-fNo",
        "colab_type": "text"
      },
      "source": [
        "### Countries with deaths reported"
      ]
    },
    {
      "cell_type": "code",
      "metadata": {
        "trusted": true,
        "_kg_hide-input": true,
        "id": "rjwHkOPT-fNp",
        "colab_type": "code",
        "colab": {}
      },
      "source": [
        "temp_flg = temp_f[temp_f['Deaths']>0][['Country/Region', 'Deaths']]\n",
        "temp_flg.sort_values('Deaths', ascending=False).reset_index(drop=True).style.background_gradient(cmap='Reds')"
      ],
      "execution_count": 0,
      "outputs": []
    },
    {
      "cell_type": "markdown",
      "metadata": {
        "id": "Yey_e8Qe-fNu",
        "colab_type": "text"
      },
      "source": [
        "### Countries with no cases recovered"
      ]
    },
    {
      "cell_type": "code",
      "metadata": {
        "trusted": true,
        "_kg_hide-input": true,
        "id": "E5JxRiSr-fNv",
        "colab_type": "code",
        "colab": {}
      },
      "source": [
        "temp = temp_f[temp_f['Recovered']==0][['Country/Region', 'Confirmed', 'Deaths', 'Recovered']]\n",
        "temp.reset_index(drop=True).style.background_gradient(cmap='Reds')"
      ],
      "execution_count": 0,
      "outputs": []
    },
    {
      "cell_type": "markdown",
      "metadata": {
        "id": "WoWH5RxU-fN2",
        "colab_type": "text"
      },
      "source": [
        "### Countries with all cases died"
      ]
    },
    {
      "cell_type": "code",
      "metadata": {
        "trusted": true,
        "_kg_hide-input": true,
        "id": "SY7PNatm-fN4",
        "colab_type": "code",
        "colab": {}
      },
      "source": [
        "temp = row_latest_grouped[row_latest_grouped['Confirmed']==\n",
        "                          row_latest_grouped['Deaths']]\n",
        "temp = temp[['Country/Region', 'Confirmed', 'Deaths']]\n",
        "temp = temp.sort_values('Confirmed', ascending=False)\n",
        "temp = temp.reset_index(drop=True)\n",
        "temp.style.background_gradient(cmap='Reds')"
      ],
      "execution_count": 0,
      "outputs": []
    },
    {
      "cell_type": "markdown",
      "metadata": {
        "id": "V305kQlR-fN_",
        "colab_type": "text"
      },
      "source": [
        "### Countries with all the cases recovered"
      ]
    },
    {
      "cell_type": "code",
      "metadata": {
        "trusted": true,
        "_kg_hide-input": true,
        "id": "q2022lKD-fOA",
        "colab_type": "code",
        "colab": {}
      },
      "source": [
        "temp = row_latest_grouped[row_latest_grouped['Confirmed']==\n",
        "                          row_latest_grouped['Recovered']]\n",
        "temp = temp[['Country/Region', 'Confirmed', 'Recovered']]\n",
        "temp = temp.sort_values('Confirmed', ascending=False)\n",
        "temp = temp.reset_index(drop=True)\n",
        "temp.style.background_gradient(cmap='Greens')"
      ],
      "execution_count": 0,
      "outputs": []
    },
    {
      "cell_type": "markdown",
      "metadata": {
        "id": "xPK57Qr2-fOD",
        "colab_type": "text"
      },
      "source": [
        "### Countries with no affected case anymore"
      ]
    },
    {
      "cell_type": "code",
      "metadata": {
        "trusted": true,
        "_kg_hide-input": true,
        "id": "0HZmywiz-fOE",
        "colab_type": "code",
        "colab": {}
      },
      "source": [
        "temp = row_latest_grouped[row_latest_grouped['Confirmed']==\n",
        "                          row_latest_grouped['Deaths']+\n",
        "                          row_latest_grouped['Recovered']]\n",
        "temp = temp[['Country/Region', 'Confirmed', 'Deaths', 'Recovered']]\n",
        "temp = temp.sort_values('Confirmed', ascending=False)\n",
        "temp = temp.reset_index(drop=True)\n",
        "temp.style.background_gradient(cmap='Greens')"
      ],
      "execution_count": 0,
      "outputs": []
    },
    {
      "cell_type": "markdown",
      "metadata": {
        "id": "yogFnQHT-fOI",
        "colab_type": "text"
      },
      "source": [
        "# Chinese province wise data"
      ]
    },
    {
      "cell_type": "markdown",
      "metadata": {
        "id": "mmTCaM04-fOJ",
        "colab_type": "text"
      },
      "source": [
        "### In each provinces"
      ]
    },
    {
      "cell_type": "code",
      "metadata": {
        "trusted": true,
        "_kg_hide-input": true,
        "id": "-DaHmhqJ-fOK",
        "colab_type": "code",
        "colab": {}
      },
      "source": [
        "temp_f = china_latest_grouped[['Province/State', 'Confirmed', 'Deaths', 'Recovered']]\n",
        "temp_f = temp_f.sort_values(by='Confirmed', ascending=False)\n",
        "temp_f = temp_f.reset_index(drop=True)\n",
        "temp_f.style.background_gradient(cmap='Pastel1_r')"
      ],
      "execution_count": 0,
      "outputs": []
    },
    {
      "cell_type": "markdown",
      "metadata": {
        "id": "tlNdHI9X-fOR",
        "colab_type": "text"
      },
      "source": [
        "### Provinces with no cases recovered"
      ]
    },
    {
      "cell_type": "code",
      "metadata": {
        "trusted": true,
        "_kg_hide-input": true,
        "id": "wqryjyjI-fOS",
        "colab_type": "code",
        "colab": {}
      },
      "source": [
        "temp = china_latest_grouped[china_latest_grouped['Recovered']==0]\n",
        "temp = temp[['Province/State', 'Confirmed', 'Deaths', 'Recovered']]\n",
        "temp = temp.sort_values('Confirmed', ascending=False)\n",
        "temp = temp.reset_index(drop=True)\n",
        "temp.style.background_gradient(cmap='Pastel1_r')"
      ],
      "execution_count": 0,
      "outputs": []
    },
    {
      "cell_type": "markdown",
      "metadata": {
        "id": "SK8ZdLkj-fOW",
        "colab_type": "text"
      },
      "source": [
        "### Provinces with all cases died"
      ]
    },
    {
      "cell_type": "code",
      "metadata": {
        "trusted": true,
        "_kg_hide-input": true,
        "id": "EnCDzJJj-fOX",
        "colab_type": "code",
        "colab": {}
      },
      "source": [
        "temp = china_latest_grouped[china_latest_grouped['Confirmed']==\n",
        "                          china_latest_grouped['Deaths']]\n",
        "temp = temp[['Province/State', 'Confirmed', 'Deaths', 'Recovered']]\n",
        "temp = temp.sort_values('Confirmed', ascending=False)\n",
        "temp = temp.reset_index(drop=True)\n",
        "temp.style.background_gradient(cmap='Greens')"
      ],
      "execution_count": 0,
      "outputs": []
    },
    {
      "cell_type": "markdown",
      "metadata": {
        "id": "EbbkaZV8-fOd",
        "colab_type": "text"
      },
      "source": [
        "### Provinces with all the cases recovered"
      ]
    },
    {
      "cell_type": "code",
      "metadata": {
        "trusted": true,
        "_kg_hide-input": true,
        "id": "1_lTVECa-fOe",
        "colab_type": "code",
        "colab": {}
      },
      "source": [
        "temp = china_latest_grouped[china_latest_grouped['Confirmed']==\n",
        "                          china_latest_grouped['Recovered']]\n",
        "temp = temp[['Province/State', 'Confirmed','Deaths', 'Recovered']]\n",
        "temp = temp.sort_values('Confirmed', ascending=False)\n",
        "temp = temp.reset_index(drop=True)\n",
        "temp.style.background_gradient(cmap='Greens')"
      ],
      "execution_count": 0,
      "outputs": []
    },
    {
      "cell_type": "markdown",
      "metadata": {
        "id": "B3w68CmW-fOh",
        "colab_type": "text"
      },
      "source": [
        "### Provinces with no affected cases anymore"
      ]
    },
    {
      "cell_type": "code",
      "metadata": {
        "trusted": true,
        "_kg_hide-input": true,
        "id": "cZHBZIS3-fOi",
        "colab_type": "code",
        "colab": {}
      },
      "source": [
        "temp = china_latest_grouped[china_latest_grouped['Confirmed']==\n",
        "                          china_latest_grouped['Deaths']+\n",
        "                          china_latest_grouped['Recovered']]\n",
        "temp = temp[['Province/State', 'Confirmed', 'Deaths', 'Recovered']]\n",
        "temp = temp.sort_values('Confirmed', ascending=False)\n",
        "temp = temp.reset_index(drop=True)\n",
        "temp.style.background_gradient(cmap='Greens')"
      ],
      "execution_count": 0,
      "outputs": []
    },
    {
      "cell_type": "markdown",
      "metadata": {
        "id": "erPjf-GF-fOm",
        "colab_type": "text"
      },
      "source": [
        "# Maps"
      ]
    },
    {
      "cell_type": "markdown",
      "metadata": {
        "id": "oZ0qwTXg-fOn",
        "colab_type": "text"
      },
      "source": [
        "### Across the world"
      ]
    },
    {
      "cell_type": "code",
      "metadata": {
        "trusted": true,
        "_kg_hide-input": true,
        "id": "vYpQrCGK-fOp",
        "colab_type": "code",
        "colab": {}
      },
      "source": [
        "# World wide\n",
        "\n",
        "m = folium.Map(location=[0, 0], tiles='cartodbpositron',\n",
        "               min_zoom=1, max_zoom=4, zoom_start=1)\n",
        "\n",
        "for i in range(0, len(full_latest)):\n",
        "    folium.Circle(\n",
        "        location=[full_latest.iloc[i]['Lat'], full_latest.iloc[i]['Long']],\n",
        "        color='crimson', \n",
        "        tooltip =   '<li><bold>Country : '+str(full_latest.iloc[i]['Country/Region'])+\n",
        "                    '<li><bold>Province : '+str(full_latest.iloc[i]['Province/State'])+\n",
        "                    '<li><bold>Confirmed : '+str(full_latest.iloc[i]['Confirmed'])+\n",
        "                    '<li><bold>Deaths : '+str(full_latest.iloc[i]['Deaths'])+\n",
        "                    '<li><bold>Recovered : '+str(full_latest.iloc[i]['Recovered']),\n",
        "        radius=int(full_latest.iloc[i]['Confirmed'])**1.1).add_to(m)\n",
        "m"
      ],
      "execution_count": 0,
      "outputs": []
    },
    {
      "cell_type": "code",
      "metadata": {
        "trusted": true,
        "_kg_hide-input": true,
        "id": "uYD7x72d-fOx",
        "colab_type": "code",
        "colab": {}
      },
      "source": [
        "# Confirmed\n",
        "\n",
        "fig = px.choropleth(full_latest_grouped, locations=\"Country/Region\", \n",
        "                    locationmode='country names', color=\"Confirmed\", \n",
        "                    hover_name=\"Country/Region\", range_color=[1,7000], \n",
        "                    color_continuous_scale=\"aggrnyl\", \n",
        "                    title='Countries with Confirmed Cases')\n",
        "fig.update(layout_coloraxis_showscale=False)\n",
        "fig.show()"
      ],
      "execution_count": 0,
      "outputs": []
    },
    {
      "cell_type": "code",
      "metadata": {
        "trusted": true,
        "_kg_hide-input": true,
        "id": "VjD-JpWR-fO1",
        "colab_type": "code",
        "colab": {}
      },
      "source": [
        "# Deaths\n",
        "\n",
        "fig = px.choropleth(full_latest_grouped[full_latest_grouped['Deaths']>0], \n",
        "                    locations=\"Country/Region\", locationmode='country names',\n",
        "                    color=\"Deaths\", hover_name=\"Country/Region\", \n",
        "                    range_color=[1,50], color_continuous_scale=\"agsunset\",\n",
        "                    title='Countries with Deaths Reported')\n",
        "fig.update(layout_coloraxis_showscale=False)\n",
        "fig.show()"
      ],
      "execution_count": 0,
      "outputs": []
    },
    {
      "cell_type": "code",
      "metadata": {
        "trusted": true,
        "_kg_hide-input": true,
        "id": "Eb2DyWg4-fO5",
        "colab_type": "code",
        "colab": {}
      },
      "source": [
        "# # China\n",
        "\n",
        "# clg = china_latest_grouped.iloc[:, :].copy()\n",
        "\n",
        "# name = {'Inner Mongolia': 'Inner Mongol',\n",
        "#         'Tibet': 'Xizang'}\n",
        "# clg.loc[:, 'Province/State'] = clg.loc[: 'Province/State'].replace(name)\n",
        "\n",
        "# with urlopen('https://raw.githubusercontent.com/yg2619/Choropleth-Maps-in-Python-Using-Plotly/master/china_geojson.json') as file:\n",
        "#     china_json = json.load(file)\n",
        "\n",
        "# fig = go.Figure(go.Choroplethmapbox(geojson=china_json, locations=clg['Province/State'], \n",
        "#                                     z=china_latest_grouped['Confirmed'], colorscale='Viridis', zmin=0, zmax=1000,\n",
        "#                                     marker_opacity=0.8, marker_line_width=0))\n",
        "# fig.update_layout(mapbox_style=\"carto-positron\",\n",
        "#                   mapbox_zoom=3, mapbox_center = {\"lat\": 35.8617, \"lon\": 104.1954})\n",
        "# fig.update_layout(margin={\"r\":0,\"t\":0,\"l\":0,\"b\":0})\n",
        "# fig.update_layout(title='Confirmed Cases in Chinese Provincec')\n",
        "# fig.show()\n",
        "\n",
        "# -----------------------------------------------------------------------------------------------------------------\n",
        "\n",
        "# # US\n",
        "\n",
        "# temp = full_latest.loc[full_latest['Country/Region']=='US', ['Province/State', 'Confirmed']]\n",
        "# temp['State'] = temp.loc[:, 'Province/State'].str.split(', ').str[-1]\n",
        "# temp = temp.groupby('State')['Confirmed'].sum().reset_index()\n",
        "\n",
        "# df = pd.read_csv('https://raw.githubusercontent.com/plotly/datasets/master/2011_us_ag_exports.csv')\n",
        "\n",
        "# fig = go.Figure(go.Choropleth(locations=temp['State'], z = temp['Confirmed'].astype(float), \n",
        "#                               locationmode = 'USA-states', colorscale = 'Viridis'))\n",
        "# fig.update_layout(geo_scope='usa', title='Confirmed Cases in US States')\n",
        "# fig.show()"
      ],
      "execution_count": 0,
      "outputs": []
    },
    {
      "cell_type": "code",
      "metadata": {
        "trusted": true,
        "id": "cHChteD4-fO_",
        "colab_type": "code",
        "colab": {}
      },
      "source": [
        "formated_gdf = full_table.groupby(['Date', 'Country/Region'])['Confirmed', 'Deaths', 'Recovered'].max()\n",
        "formated_gdf = formated_gdf.reset_index()\n",
        "formated_gdf['Date'] = pd.to_datetime(formated_gdf['Date'])\n",
        "formated_gdf['Date'] = formated_gdf['Date'].dt.strftime('%m/%d/%Y')\n",
        "formated_gdf['size'] = formated_gdf['Confirmed'].pow(0.3)\n",
        "\n",
        "fig = px.scatter_geo(formated_gdf, locations=\"Country/Region\", locationmode='country names', \n",
        "                     color=\"Confirmed\", size='size', hover_name=\"Country/Region\", \n",
        "                     range_color= [0, max(formated_gdf['Confirmed'])+2], \n",
        "                     projection=\"natural earth\", animation_frame=\"Date\", \n",
        "                     title='Spread over time')\n",
        "fig.update(layout_coloraxis_showscale=False)\n",
        "fig.show()"
      ],
      "execution_count": 0,
      "outputs": []
    },
    {
      "cell_type": "markdown",
      "metadata": {
        "trusted": true,
        "id": "d7gZQ3vI-fPE",
        "colab_type": "text"
      },
      "source": [
        "# Ships"
      ]
    },
    {
      "cell_type": "markdown",
      "metadata": {
        "id": "diWA4gJo-fPF",
        "colab_type": "text"
      },
      "source": [
        "### Diamond Princess cruise ship\n",
        "\n",
        "* On *20 January 2020*, an 80-year-old passenger from Hong Kong embarked in **Yokohama**, later tested positive for COVID-19 on *1 February*.    \n",
        "* On *4 February*, the ship was in Japanese waters when **10 passengers were diagnosed with COVID-19**. \n",
        "* The **ship was quarantined** on *4 February 2020* in the **Port of Yokohama in Japan**. \n",
        ">* The infections included at least 138 from India (including 132 crew and 6 passengers), 35 Filipinos, \n",
        ">* 32 Canadians, 24 Australians, 13 Americans, 4 Indonesians, 4 Malaysians,and 2 Britons. \n",
        "\n",
        "* Home countries arranged to evacuate their citizens and quarantine them further in their own countries.\n",
        "* As of *5 March*, **at least 696** out of the 3,711 passengers and crew had **tested positive** for the virus.\n",
        "* As of *7 March*, there had been **at least 7 deaths**\n",
        "\n",
        "### Grand Princess Ship\n",
        "\n",
        "* Another **Grand-class ship owned by Princess Cruises**, also experienced an outbreak of the disease\n",
        "* **Two of its passengers** fell ill after a cruise **from San Francisco to Mexico** in February 2020, and one of them died"
      ]
    },
    {
      "cell_type": "code",
      "metadata": {
        "trusted": true,
        "_kg_hide-input": true,
        "id": "x8v8ZRZ0-fPG",
        "colab_type": "code",
        "colab": {}
      },
      "source": [
        "# Latest cases from the ships\n",
        "temp = ship[ship['Date']==max(ship['Date'])]\n",
        "temp = temp[['Province/State', 'Confirmed', 'Deaths', 'Recovered']].reset_index(drop=True)\n",
        "temp.style.background_gradient(cmap='Pastel1_r')"
      ],
      "execution_count": 0,
      "outputs": []
    },
    {
      "cell_type": "code",
      "metadata": {
        "trusted": true,
        "_kg_hide-input": true,
        "id": "4qn70OYM-fPK",
        "colab_type": "code",
        "colab": {}
      },
      "source": [
        "temp = ship[ship['Date']==max(ship['Date'])]\n",
        "\n",
        "m = folium.Map(location=[0, 0], tiles='cartodbpositron',\n",
        "               min_zoom=1, max_zoom=4, zoom_start=1)\n",
        "\n",
        "for i in range(0, len(temp)):\n",
        "    folium.Circle(\n",
        "        location=[temp.iloc[i]['Lat'], temp.iloc[i]['Long']],\n",
        "        color='crimson', \n",
        "        tooltip =   '<li><bold>Country : '+str(temp.iloc[i]['Country/Region'])+\n",
        "                    '<li><bold>Province : '+str(temp.iloc[i]['Province/State'])+\n",
        "                    '<li><bold>Confirmed : '+str(temp.iloc[i]['Confirmed'])+\n",
        "                    '<li><bold>Deaths : '+str(temp.iloc[i]['Deaths'])+\n",
        "                    '<li><bold>Recovered : '+str(temp.iloc[i]['Recovered']),\n",
        "        radius=100000).add_to(m)\n",
        "m"
      ],
      "execution_count": 0,
      "outputs": []
    },
    {
      "cell_type": "markdown",
      "metadata": {
        "id": "AIlHmvZJ-fPN",
        "colab_type": "text"
      },
      "source": [
        "# Cases over the time"
      ]
    },
    {
      "cell_type": "code",
      "metadata": {
        "_kg_hide-input": true,
        "trusted": true,
        "id": "8B5lrKE3-fPQ",
        "colab_type": "code",
        "colab": {}
      },
      "source": [
        "temp = full_table.groupby('Date')['Recovered', 'Deaths', 'Active'].sum().reset_index()\n",
        "temp = temp.melt(id_vars=\"Date\", value_vars=['Recovered', 'Deaths', 'Active'],\n",
        "                 var_name='Case', value_name='Count')\n",
        "temp.head()\n",
        "\n",
        "fig = px.area(temp, x=\"Date\", y=\"Count\", color='Case',\n",
        "             title='Cases over time', color_discrete_sequence = [rec, dth, act])\n",
        "fig.show()"
      ],
      "execution_count": 0,
      "outputs": []
    },
    {
      "cell_type": "markdown",
      "metadata": {
        "id": "p_PLdDi8-fPT",
        "colab_type": "text"
      },
      "source": [
        "# Recovery and mortality rate over time"
      ]
    },
    {
      "cell_type": "code",
      "metadata": {
        "trusted": true,
        "_kg_hide-input": true,
        "id": "kMcyHAx6-fPU",
        "colab_type": "code",
        "colab": {}
      },
      "source": [
        "temp = full_table.groupby('Date').sum().reset_index()\n",
        "\n",
        "# adding two more columns\n",
        "temp['No. of Deaths to 100 Confirmed Cases'] = round(temp['Deaths']/temp['Confirmed'], 3)*100\n",
        "temp['No. of Recovered to 100 Confirmed Cases'] = round(temp['Recovered']/temp['Confirmed'], 3)*100\n",
        "# temp['No. of Recovered to 1 Death Case'] = round(temp['Recovered']/temp['Deaths'], 3)\n",
        "\n",
        "temp = temp.melt(id_vars='Date', value_vars=['No. of Deaths to 100 Confirmed Cases', 'No. of Recovered to 100 Confirmed Cases'], \n",
        "                 var_name='Ratio', value_name='Value')\n",
        "\n",
        "fig = px.line(temp, x=\"Date\", y=\"Value\", color='Ratio', log_y=True, \n",
        "              title='Recovery and Mortality Rate Over The Time', color_discrete_sequence=[dth, rec])\n",
        "fig.show()"
      ],
      "execution_count": 0,
      "outputs": []
    },
    {
      "cell_type": "markdown",
      "metadata": {
        "id": "1oaj6pkO-fPb",
        "colab_type": "text"
      },
      "source": [
        "# No. of places to which COVID-19 spread"
      ]
    },
    {
      "cell_type": "code",
      "metadata": {
        "trusted": true,
        "_kg_hide-input": true,
        "id": "U7uDyF6N-fPh",
        "colab_type": "code",
        "colab": {}
      },
      "source": [
        "c_spread = china[china['Confirmed']!=0].groupby('Date')['Province/State'].unique().apply(len)\n",
        "c_spread = pd.DataFrame(c_spread).reset_index()\n",
        "\n",
        "fig = px.line(c_spread, x='Date', y='Province/State', text='Province/State',\n",
        "              title='Number of Provinces/States/Regions of China to which COVID-19 spread over the time',\n",
        "             color_discrete_sequence=[cnf,dth, rec])\n",
        "fig.update_traces(textposition='top center')\n",
        "fig.show()\n",
        "\n",
        "# ------------------------------------------------------------------------------------------\n",
        "\n",
        "spread = full_table[full_table['Confirmed']!=0].groupby('Date')['Country/Region'].unique().apply(len)\n",
        "spread = pd.DataFrame(spread).reset_index()\n",
        "\n",
        "fig = px.line(spread, x='Date', y='Country/Region', text='Country/Region',\n",
        "              title='Number of Countries/Regions to which COVID-19 spread over the time',\n",
        "             color_discrete_sequence=[cnf,dth, rec])\n",
        "fig.update_traces(textposition='top center')\n",
        "fig.show()"
      ],
      "execution_count": 0,
      "outputs": []
    },
    {
      "cell_type": "markdown",
      "metadata": {
        "id": "3kAA_FAH-fPo",
        "colab_type": "text"
      },
      "source": [
        "# Top 20 Countries"
      ]
    },
    {
      "cell_type": "code",
      "metadata": {
        "trusted": true,
        "_kg_hide-input": true,
        "_kg_hide-output": true,
        "id": "a4DDEIQM-fPp",
        "colab_type": "code",
        "colab": {}
      },
      "source": [
        "flg = full_latest_grouped\n",
        "flg.head()"
      ],
      "execution_count": 0,
      "outputs": []
    },
    {
      "cell_type": "code",
      "metadata": {
        "trusted": true,
        "_kg_hide-input": true,
        "id": "GyEwg9a--fPw",
        "colab_type": "code",
        "colab": {}
      },
      "source": [
        "fig = px.bar(flg.sort_values('Confirmed', ascending=False).head(20).sort_values('Confirmed', ascending=True), \n",
        "             x=\"Confirmed\", y=\"Country/Region\", title='Confirmed Cases', text='Confirmed', orientation='h', \n",
        "             width=700, height=700, range_x = [0, max(flg['Confirmed'])+10000])\n",
        "fig.update_traces(marker_color=cnf, opacity=0.6, textposition='outside')\n",
        "fig.show()"
      ],
      "execution_count": 0,
      "outputs": []
    },
    {
      "cell_type": "code",
      "metadata": {
        "trusted": true,
        "_kg_hide-input": true,
        "id": "PcuOeFAj-fP1",
        "colab_type": "code",
        "colab": {}
      },
      "source": [
        "fig = px.bar(flg.sort_values('Deaths', ascending=False).head(20).sort_values('Deaths', ascending=True), \n",
        "             x=\"Deaths\", y=\"Country/Region\", title='Deaths', text='Deaths', orientation='h', \n",
        "             width=700, height=700, range_x = [0, max(flg['Deaths'])+500])\n",
        "fig.update_traces(marker_color=dth, opacity=0.6, textposition='outside')\n",
        "fig.show()"
      ],
      "execution_count": 0,
      "outputs": []
    },
    {
      "cell_type": "code",
      "metadata": {
        "trusted": true,
        "_kg_hide-input": true,
        "id": "S3LGDM_A-fP3",
        "colab_type": "code",
        "colab": {}
      },
      "source": [
        "fig = px.bar(flg.sort_values('Recovered', ascending=False).head(20).sort_values('Recovered', ascending=True), \n",
        "             x=\"Recovered\", y=\"Country/Region\", title='Recovered', text='Recovered', orientation='h', \n",
        "             width=700, height=700, range_x = [0, max(flg['Recovered'])+10000])\n",
        "fig.update_traces(marker_color=rec, opacity=0.6, textposition='outside')\n",
        "fig.show()"
      ],
      "execution_count": 0,
      "outputs": []
    },
    {
      "cell_type": "code",
      "metadata": {
        "trusted": true,
        "_kg_hide-input": true,
        "id": "eqDHlo8H-fP6",
        "colab_type": "code",
        "colab": {}
      },
      "source": [
        "fig = px.bar(flg.sort_values('Active', ascending=False).head(20).sort_values('Active', ascending=True), \n",
        "             x=\"Active\", y=\"Country/Region\", title='Active', text='Active', orientation='h', \n",
        "             width=700, height=700, range_x = [0, max(flg['Active'])+3000])\n",
        "fig.update_traces(marker_color=act, opacity=0.6, textposition='outside')\n",
        "fig.show()"
      ],
      "execution_count": 0,
      "outputs": []
    },
    {
      "cell_type": "code",
      "metadata": {
        "trusted": true,
        "_kg_hide-input": true,
        "id": "RJs_PMQ_-fP-",
        "colab_type": "code",
        "colab": {}
      },
      "source": [
        "# (Only countries with more than 100 case are considered)\n",
        "\n",
        "flg['Mortality Rate'] = round((flg['Deaths']/flg['Confirmed'])*100, 2)\n",
        "temp = flg[flg['Confirmed']>100]\n",
        "temp = temp.sort_values('Mortality Rate', ascending=False)\n",
        "\n",
        "fig = px.bar(temp.sort_values('Mortality Rate', ascending=False).head(15).sort_values('Mortality Rate', ascending=True), \n",
        "             x=\"Mortality Rate\", y=\"Country/Region\", text='Mortality Rate', orientation='h', \n",
        "             width=700, height=600, range_x = [0, 8], title='No. of Deaths Per 100 Confirmed Case')\n",
        "fig.update_traces(marker_color=act, opacity=0.6, textposition='outside')\n",
        "fig.show()"
      ],
      "execution_count": 0,
      "outputs": []
    },
    {
      "cell_type": "code",
      "metadata": {
        "trusted": true,
        "_kg_hide-input": true,
        "id": "QFMPOtZQ-fQE",
        "colab_type": "code",
        "colab": {}
      },
      "source": [
        "# load population dataset\n",
        "pop_clean_data = pd.read_csv(\"../input/world-population-19602018/population_clean.csv\")\n",
        "\n",
        "# select only the latest data\n",
        "pop = pop_clean_data.loc[:, ['Country Name', '2018']]\n",
        "\n",
        "# substitute for missing values\n",
        "cols = ['French Guiana', 'Martinique', 'Palestine' , 'Republic of Ireland', 'Saint Barthelemy', 'Taiwan', 'Vatican City']\n",
        "pops = [290691, 376480, 4750000, 4920455, 7122, 23476640, 1000]\n",
        "for c, p in zip(cols, pops):\n",
        "    temp.loc[temp['Country/Region']== c, 'Population'] = p\n",
        "\n",
        "# replace country names \n",
        "name = {\n",
        "    'Egypt, Arab Rep.': 'Egypt',\n",
        "    'Hong Kong SAR, China': 'Hong Kong',\n",
        "    'Iran, Islamic Rep.': 'Iran (Islamic Republic of)',\n",
        "    'Macao SAR, China': 'Macau',\n",
        "    'Hong Kong SAR': 'Hong Kong',\n",
        "    'Russian Federation': 'Russia',\n",
        "    'Slovak Republic': 'Slovakia',\n",
        "    'Korea, Rep.': 'Republic of Korea',\n",
        "    'United Kingdom': 'UK',\n",
        "    'United States': 'US' }\n",
        "pop.loc[:, 'Country Name'] = pop.loc[: 'Country Name'].replace(name)\n",
        "\n",
        "# merge dataframes\n",
        "temp = pd.merge(full_latest_grouped, pop, how='left', right_on='Country Name', left_on='Country/Region')\n",
        "# print(temp[temp['Country Name'].isna()])\n",
        "\n",
        "temp = temp[['Country/Region', 'Confirmed', 'Deaths', 'Recovered', 'Active', '2018']]\n",
        "temp.columns = ['Country/Region', 'Confirmed', 'Deaths', 'Recovered', 'Active', 'Population']\n",
        "    \n",
        "# calculate Confirmed/Population\n",
        "temp['Confirmed Per Million People'] = round(temp['Confirmed']/temp['Population']*1000000, 2)\n",
        "\n",
        "# countries with population greater that 1 million only\n",
        "temp = temp[temp['Population']>1000000].sort_values('Confirmed Per Million People', ascending=False).reset_index(drop=True)\n",
        "# temp.head()\n",
        "\n",
        "fig = px.bar(temp.head(20).sort_values('Confirmed Per Million People', ascending=True), \n",
        "             x='Confirmed Per Million People', y='Country/Region', orientation='h', \n",
        "             width=700, height=700, text='Confirmed Per Million People', title='Confirmed cases Per Million People',\n",
        "             range_x = [0, max(temp['Confirmed Per Million People'])+20])\n",
        "fig.update_traces(textposition='outside', marker_color=dth, opacity=0.7)\n",
        "fig.update_layout(uniformtext_minsize=8, uniformtext_mode='hide')\n",
        "fig.show()"
      ],
      "execution_count": 0,
      "outputs": []
    },
    {
      "cell_type": "markdown",
      "metadata": {
        "id": "fXi3MZC--fQG",
        "colab_type": "text"
      },
      "source": [
        "# Date vs"
      ]
    },
    {
      "cell_type": "code",
      "metadata": {
        "trusted": true,
        "_kg_hide-input": true,
        "id": "VxG9WPdi-fQL",
        "colab_type": "code",
        "colab": {}
      },
      "source": [
        "temp = full_table.groupby(['Country/Region', 'Date'])['Confirmed', 'Deaths', 'Recovered'].sum()\n",
        "temp = temp.reset_index()\n",
        "\n",
        "fig = px.bar(temp, x=\"Date\", y=\"Confirmed\", color='Country/Region', orientation='v', height=600,\n",
        "             title='Confirmed', color_discrete_sequence = px.colors.cyclical.mygbm)\n",
        "fig.show()"
      ],
      "execution_count": 0,
      "outputs": []
    },
    {
      "cell_type": "code",
      "metadata": {
        "trusted": true,
        "_kg_hide-input": true,
        "id": "uQwaSHym-fQP",
        "colab_type": "code",
        "colab": {}
      },
      "source": [
        "fig = px.bar(temp, x=\"Date\", y=\"Deaths\", color='Country/Region', orientation='v', height=600,\n",
        "             title='Deaths', color_discrete_sequence = px.colors.cyclical.mygbm)\n",
        "fig.show()"
      ],
      "execution_count": 0,
      "outputs": []
    },
    {
      "cell_type": "code",
      "metadata": {
        "trusted": true,
        "_kg_hide-input": true,
        "id": "U6-DXzOC-fQX",
        "colab_type": "code",
        "colab": {}
      },
      "source": [
        "temp = full_table.groupby(['Country/Region', 'Date', ])['Confirmed', 'Deaths', 'Recovered']\n",
        "temp = temp.sum().diff().reset_index()\n",
        "\n",
        "mask = temp['Country/Region'] != temp['Country/Region'].shift(1)\n",
        "\n",
        "temp.loc[mask, 'Confirmed'] = np.nan\n",
        "temp.loc[mask, 'Deaths'] = np.nan\n",
        "temp.loc[mask, 'Recovered'] = np.nan\n",
        "\n",
        "fig = px.bar(temp, x=\"Date\", y=\"Confirmed\", color='Country/Region',title='New cases')\n",
        "fig.show()"
      ],
      "execution_count": 0,
      "outputs": []
    },
    {
      "cell_type": "markdown",
      "metadata": {
        "id": "ff1s8veJ-fQc",
        "colab_type": "text"
      },
      "source": [
        "https://app.flourish.studio/visualisation/1571387/edit\n",
        "\n"
      ]
    },
    {
      "cell_type": "code",
      "metadata": {
        "trusted": true,
        "id": "98l67GTW-fQd",
        "colab_type": "code",
        "colab": {}
      },
      "source": [
        "HTML('''<div class=\"flourish-embed flourish-bar-chart-race\" data-src=\"visualisation/1571387\"><script src=\"https://public.flourish.studio/resources/embed.js\"></script></div>''')"
      ],
      "execution_count": 0,
      "outputs": []
    },
    {
      "cell_type": "code",
      "metadata": {
        "_kg_hide-input": true,
        "trusted": true,
        "id": "wDghQe8X-fQg",
        "colab_type": "code",
        "colab": {}
      },
      "source": [
        "# temp = full_table.groupby(['Date', 'Country/Region'])['Confirmed'].sum().reset_index()\n",
        "# temp = temp.sort_values('Confirmed').reset_index(drop=True).head(20)\n",
        "# # temp['Date'] = temp['Date'].dt.strftime('%Y-%m-%d')\n",
        "# temp = temp.sort_values(by='Date')\n",
        "# temp['Date'] = temp['Date'].apply(lambda x: x.date()).apply(str)\n",
        "# temp.head()\n",
        "\n",
        "# fig = px.bar(temp, y='Country/Region', x='Confirmed', color='Country/Region', orientation='h',  \n",
        "#              title='Over time', animation_frame='Date', height=1000, log_x=True)\n",
        "# # fig.update_traces(textposition='outside')\n",
        "# # fig.update_layout(uniformtext_minsize=8, uniformtext_mode='hide')\n",
        "# # fig.update_layout(yaxis={'categoryorder':'array', \n",
        "# #                          'categoryarray':['Hubei','Other Chinese Provinces','Rest of the World']})\n",
        "# fig.show()"
      ],
      "execution_count": 0,
      "outputs": []
    },
    {
      "cell_type": "code",
      "metadata": {
        "_kg_hide-input": true,
        "trusted": true,
        "id": "S2l3sZZ2-fQj",
        "colab_type": "code",
        "colab": {}
      },
      "source": [
        "temp = full_table.groupby(['Date', 'Country/Region'])['Confirmed'].sum().reset_index()\n",
        "\n",
        "px.line(temp, x=\"Date\", y=\"Confirmed\", color='Country/Region', title='Cases Spread', height=600)"
      ],
      "execution_count": 0,
      "outputs": []
    },
    {
      "cell_type": "markdown",
      "metadata": {
        "id": "oE87SP-D-fQm",
        "colab_type": "text"
      },
      "source": [
        "# Composition of Cases"
      ]
    },
    {
      "cell_type": "code",
      "metadata": {
        "trusted": true,
        "_kg_hide-input": true,
        "id": "AjlRaOUU-fQo",
        "colab_type": "code",
        "colab": {}
      },
      "source": [
        "fig = px.treemap(full_latest.sort_values(by='Confirmed', ascending=False).reset_index(drop=True), \n",
        "                 path=[\"Country/Region\", \"Province/State\"], values=\"Confirmed\", height=700,\n",
        "                 title='Number of Confirmed Cases',\n",
        "                 color_discrete_sequence = px.colors.qualitative.Prism)\n",
        "fig.data[0].textinfo = 'label+text+value'\n",
        "fig.show()\n",
        "\n",
        "fig = px.treemap(full_latest.sort_values(by='Deaths', ascending=False).reset_index(drop=True), \n",
        "                 path=[\"Country/Region\", \"Province/State\"], values=\"Deaths\", height=700,\n",
        "                 title='Number of Deaths reported',\n",
        "                 color_discrete_sequence = px.colors.qualitative.Prism)\n",
        "fig.data[0].textinfo = 'label+text+value'\n",
        "fig.show()"
      ],
      "execution_count": 0,
      "outputs": []
    },
    {
      "cell_type": "markdown",
      "metadata": {
        "id": "y4uMY-5a-fQs",
        "colab_type": "text"
      },
      "source": [
        "# Epidemic Span"
      ]
    },
    {
      "cell_type": "markdown",
      "metadata": {
        "id": "Dt7ZZS-r-fQs",
        "colab_type": "text"
      },
      "source": [
        "Note : In the graph, last day is shown as one day after the last time a new confirmed cases reported in the Country / Region"
      ]
    },
    {
      "cell_type": "code",
      "metadata": {
        "_kg_hide-input": true,
        "trusted": true,
        "id": "-fMLYUQq-fQt",
        "colab_type": "code",
        "colab": {}
      },
      "source": [
        "# first date\n",
        "# ----------\n",
        "first_date = full_table[full_table['Confirmed']>0]\n",
        "first_date = first_date.groupby('Country/Region')['Date'].agg(['min']).reset_index()\n",
        "# first_date.head()\n",
        "from datetime import timedelta  \n",
        "# last date\n",
        "# ---------\n",
        "last_date = full_table.groupby(['Country/Region', 'Date', ])['Confirmed', 'Deaths', 'Recovered']\n",
        "last_date = last_date.sum().diff().reset_index()\n",
        "\n",
        "mask = last_date['Country/Region'] != last_date['Country/Region'].shift(1)\n",
        "last_date.loc[mask, 'Confirmed'] = np.nan\n",
        "last_date.loc[mask, 'Deaths'] = np.nan\n",
        "last_date.loc[mask, 'Recovered'] = np.nan\n",
        "\n",
        "last_date = last_date[last_date['Confirmed']>0]\n",
        "last_date = last_date.groupby('Country/Region')['Date'].agg(['max']).reset_index()\n",
        "# last_date.head()\n",
        "\n",
        "# first_last\n",
        "# ----------\n",
        "first_last = pd.concat([first_date, last_date[['max']]], axis=1)\n",
        "\n",
        "# added 1 more day, which will show the next day as the day on which last case appeared\n",
        "first_last['max'] = first_last['max'] + timedelta(days=1)\n",
        "\n",
        "# no. of days\n",
        "first_last['Days'] = first_last['max'] - first_last['min']\n",
        "\n",
        "# task column as country\n",
        "first_last['Task'] = first_last['Country/Region']\n",
        "\n",
        "# rename columns\n",
        "first_last.columns = ['Country/Region', 'Start', 'Finish', 'Days', 'Task']\n",
        "\n",
        "# sort by no. of days\n",
        "first_last = first_last.sort_values('Days')\n",
        "# first_last.head()\n",
        "\n",
        "# visualization\n",
        "# --------------\n",
        "\n",
        "# produce random colors\n",
        "clr = [\"#\"+''.join([random.choice('0123456789ABC') for j in range(6)]) for i in range(len(first_last))]\n",
        "\n",
        "#plot\n",
        "fig = ff.create_gantt(first_last, index_col='Country/Region', colors=clr, show_colorbar=False, \n",
        "                      bar_width=0.2, showgrid_x=True, showgrid_y=True, height=1600, \n",
        "                      title=('Gantt Chart'))\n",
        "fig.show()"
      ],
      "execution_count": 0,
      "outputs": []
    },
    {
      "cell_type": "markdown",
      "metadata": {
        "id": "nCtRo_3w-fQv",
        "colab_type": "text"
      },
      "source": [
        "# China vs ROW"
      ]
    },
    {
      "cell_type": "code",
      "metadata": {
        "trusted": true,
        "_kg_hide-input": true,
        "id": "6S7vhIA4-fQz",
        "colab_type": "code",
        "colab": {}
      },
      "source": [
        "# In China\n",
        "temp = china.groupby('Date')['Confirmed', 'Deaths', 'Recovered'].sum().diff()\n",
        "temp = temp.reset_index()\n",
        "temp = temp.melt(id_vars=\"Date\", \n",
        "                 value_vars=['Confirmed', 'Deaths', 'Recovered'])\n",
        "\n",
        "fig = px.bar(temp, x=\"Date\", y=\"value\", color='variable', \n",
        "             title='In China',\n",
        "             color_discrete_sequence=[cnf, dth, rec])\n",
        "fig.update_layout(barmode='group')\n",
        "fig.show()\n",
        "\n",
        "#-----------------------------------------------------------------------------\n",
        "\n",
        "# ROW\n",
        "temp = row.groupby('Date')['Confirmed', 'Deaths', 'Recovered'].sum().diff()\n",
        "temp = temp.reset_index()\n",
        "temp = temp.melt(id_vars=\"Date\", \n",
        "                 value_vars=['Confirmed', 'Deaths', 'Recovered'])\n",
        "\n",
        "fig = px.bar(temp, x=\"Date\", y=\"value\", color='variable', \n",
        "             title='Outside China',\n",
        "             color_discrete_sequence=[cnf, dth, rec])\n",
        "fig.update_layout(barmode='group')\n",
        "fig.show()"
      ],
      "execution_count": 0,
      "outputs": []
    },
    {
      "cell_type": "code",
      "metadata": {
        "trusted": true,
        "_kg_hide-input": true,
        "id": "Sbyzi0cf-fQ9",
        "colab_type": "code",
        "colab": {}
      },
      "source": [
        "def from_china_or_not(row):\n",
        "    if row['Country/Region']=='China':\n",
        "        return 'From China'\n",
        "    else:\n",
        "        return 'Outside China'\n",
        "    \n",
        "temp = full_table.copy()\n",
        "temp['Region'] = temp.apply(from_china_or_not, axis=1)\n",
        "temp = temp.groupby(['Region', 'Date'])['Confirmed', 'Deaths', 'Recovered']\n",
        "temp = temp.sum().diff().reset_index()\n",
        "mask = temp['Region'] != temp['Region'].shift(1)\n",
        "temp.loc[mask, 'Confirmed'] = np.nan\n",
        "temp.loc[mask, 'Deaths'] = np.nan\n",
        "temp.loc[mask, 'Recovered'] = np.nan\n",
        "\n",
        "fig = px.bar(temp, x='Date', y='Confirmed', color='Region', barmode='group', \n",
        "             text='Confirmed', title='Confirmed', color_discrete_sequence= [cnf, dth, rec])\n",
        "fig.update_traces(textposition='outside')\n",
        "fig.show()\n",
        "\n",
        "fig = px.bar(temp, x='Date', y='Deaths', color='Region', barmode='group', \n",
        "             text='Confirmed', title='Deaths', color_discrete_sequence= [cnf, dth, rec])\n",
        "fig.update_traces(textposition='outside')\n",
        "fig.update_traces(textangle=-90)\n",
        "fig.show()"
      ],
      "execution_count": 0,
      "outputs": []
    },
    {
      "cell_type": "code",
      "metadata": {
        "trusted": true,
        "_kg_hide-input": true,
        "id": "wcyUwY3F-fRB",
        "colab_type": "code",
        "colab": {}
      },
      "source": [
        "# fig = px.bar(temp[temp['Country/Region']!='China'], x=\"Date\", y=\"Confirmed\", color='Country/Region',\n",
        "#              title='Number of new cases outside China everyday')\n",
        "# fig.show()\n",
        "\n",
        "# fig = px.bar(temp, x=\"Date\", y=\"Deaths\", color='Country/Region',\n",
        "#              title='Number of new death case reported outside China everyday')\n",
        "# fig.show()\n",
        "\n",
        "# fig = px.bar(temp[temp['Country/Region']!='China'], x=\"Date\", y=\"Deaths\", color='Country/Region',\n",
        "#              title='Number of new death case reported outside China everyday')\n",
        "# fig.show()"
      ],
      "execution_count": 0,
      "outputs": []
    },
    {
      "cell_type": "code",
      "metadata": {
        "_kg_hide-input": true,
        "trusted": true,
        "id": "zPjIBYt4-fRF",
        "colab_type": "code",
        "colab": {}
      },
      "source": [
        "gdf = full_table.groupby(['Date', 'Country/Region'])['Confirmed', 'Deaths', 'Recovered'].max()\n",
        "gdf = gdf.reset_index()\n",
        "\n",
        "temp = gdf[gdf['Country/Region']=='China'].reset_index()\n",
        "temp = temp.melt(id_vars='Date', value_vars=['Confirmed', 'Deaths', 'Recovered'],\n",
        "                var_name='Case', value_name='Count')\n",
        "fig = px.bar(temp, x=\"Date\", y=\"Count\", color='Case', facet_col=\"Case\",\n",
        "            title='China', color_discrete_sequence=[cnf, dth, rec])\n",
        "fig.show()\n",
        "\n",
        "temp = gdf[gdf['Country/Region']!='China'].groupby('Date').sum().reset_index()\n",
        "temp = temp.melt(id_vars='Date', value_vars=['Confirmed', 'Deaths', 'Recovered'],\n",
        "                var_name='Case', value_name='Count')\n",
        "fig = px.bar(temp, x=\"Date\", y=\"Count\", color='Case', facet_col=\"Case\",\n",
        "             title='ROW', color_discrete_sequence=[cnf, dth, rec])\n",
        "fig.show()"
      ],
      "execution_count": 0,
      "outputs": []
    },
    {
      "cell_type": "markdown",
      "metadata": {
        "id": "S_-mYwTk-fRI",
        "colab_type": "text"
      },
      "source": [
        "# Hubei - China - World"
      ]
    },
    {
      "cell_type": "code",
      "metadata": {
        "trusted": true,
        "_kg_hide-input": true,
        "id": "dUA4AJm5-fRK",
        "colab_type": "code",
        "colab": {}
      },
      "source": [
        "def location(row):\n",
        "    if row['Country/Region']=='China':\n",
        "        if row['Province/State']=='Hubei':\n",
        "            return 'Hubei'\n",
        "        else:\n",
        "            return 'Other Chinese Provinces'\n",
        "    else:\n",
        "        return 'Rest of the World'\n",
        "\n",
        "temp = full_table.copy()\n",
        "temp['Region'] = temp.apply(location, axis=1)\n",
        "temp['Date'] = temp['Date'].dt.strftime('%Y-%m-%d')\n",
        "temp = temp.groupby(['Region', 'Date'])['Confirmed', 'Deaths', 'Recovered'].sum().reset_index()\n",
        "temp = temp.melt(id_vars=['Region', 'Date'], value_vars=['Confirmed', 'Deaths', 'Recovered'], \n",
        "                 var_name='Case', value_name='Count').sort_values('Count')\n",
        "# temp = temp.sort_values(['Date', 'Region', 'Case']).reset_index()\n",
        "temp.head()\n",
        "\n",
        "fig = px.bar(temp, y='Region', x='Count', color='Case', barmode='group', orientation='h',\n",
        "             text='Count', title='Hubei - China - World', animation_frame='Date',\n",
        "             color_discrete_sequence= [dth, rec, cnf], range_x=[0, 70000])\n",
        "fig.update_traces(textposition='outside')\n",
        "# fig.update_layout(uniformtext_minsize=8, uniformtext_mode='hide')\n",
        "# fig.update_layout(yaxis={'categoryorder':'array', \n",
        "#                          'categoryarray':['Hubei','Other Chinese Provinces','Rest of the World']})\n",
        "fig.show()\n",
        "\n",
        "temp = full_latest.copy()\n",
        "temp['Region'] = temp.apply(location, axis=1)\n",
        "temp = temp.groupby('Region')['Confirmed', 'Deaths', 'Recovered'].sum().reset_index()\n",
        "temp = temp.melt(id_vars='Region', value_vars=['Confirmed', 'Deaths', 'Recovered'], \n",
        "                 var_name='Case', value_name='Count').sort_values('Count')\n",
        "temp.head()\n",
        "\n",
        "fig = px.bar(temp, y='Region', x='Count', color='Case', barmode='group', orientation='h',\n",
        "             text='Count', title='Hubei - China - World', \n",
        "             color_discrete_sequence= [dth, rec, cnf])\n",
        "fig.update_traces(textposition='outside')\n",
        "fig.update_layout(uniformtext_minsize=8, uniformtext_mode='hide')\n",
        "fig.show()"
      ],
      "execution_count": 0,
      "outputs": []
    },
    {
      "cell_type": "markdown",
      "metadata": {
        "id": "DzBoL5wE-fRN",
        "colab_type": "text"
      },
      "source": [
        "# Proportion of Cases"
      ]
    },
    {
      "cell_type": "code",
      "metadata": {
        "_kg_hide-input": true,
        "trusted": true,
        "id": "m-6tRu8e-fRQ",
        "colab_type": "code",
        "colab": {}
      },
      "source": [
        "rl = row_latest.groupby('Country/Region')['Confirmed', 'Deaths', 'Recovered'].sum()\n",
        "rl = rl.reset_index().sort_values(by='Confirmed', ascending=False).reset_index(drop=True)\n",
        "rl.head().style.background_gradient(cmap='rainbow')\n",
        "\n",
        "ncl = rl.copy()\n",
        "ncl['Affected'] = ncl['Confirmed'] - ncl['Deaths'] - ncl['Recovered']\n",
        "ncl = ncl.melt(id_vars=\"Country/Region\", value_vars=['Affected', 'Recovered', 'Deaths'])\n",
        "\n",
        "fig = px.bar(ncl.sort_values(['variable', 'value']), \n",
        "             x=\"Country/Region\", y=\"value\", color='variable', orientation='v', height=800,\n",
        "             title='Number of Cases outside China', color_discrete_sequence=[act, dth, rec])\n",
        "fig.update_layout(uniformtext_minsize=8, uniformtext_mode='hide')\n",
        "fig.show()\n",
        "\n",
        "# ------------------------------------------\n",
        "\n",
        "cl = china_latest.groupby('Province/State')['Confirmed', 'Deaths', 'Recovered'].sum()\n",
        "cl = cl.reset_index().sort_values(by='Confirmed', ascending=False).reset_index(drop=True)\n",
        "# cl.head().style.background_gradient(cmap='rainbow')\n",
        "\n",
        "ncl = cl.copy()\n",
        "ncl['Affected'] = ncl['Confirmed'] - ncl['Deaths'] - ncl['Recovered']\n",
        "ncl = ncl.melt(id_vars=\"Province/State\", value_vars=['Affected', 'Recovered', 'Deaths'])\n",
        "\n",
        "fig = px.bar(ncl.sort_values(['variable', 'value']), \n",
        "             y=\"Province/State\", x=\"value\", color='variable', orientation='h', height=800,\n",
        "             title='Number of Cases in China', color_discrete_sequence=[act, dth, rec])\n",
        "fig.update_layout(uniformtext_minsize=8, uniformtext_mode='hide')\n",
        "fig.show()"
      ],
      "execution_count": 0,
      "outputs": []
    },
    {
      "cell_type": "code",
      "metadata": {
        "trusted": true,
        "_kg_hide-input": true,
        "id": "krV1mRzG-fRZ",
        "colab_type": "code",
        "colab": {}
      },
      "source": [
        "# fig = px.treemap(china_latest.sort_values(by='Confirmed', ascending=False).reset_index(drop=True), \n",
        "#                  path=[\"Province/State\"], values=\"Confirmed\",\n",
        "#                  title='Number of Confirmed Cases in Chinese Provinces',\n",
        "#                  color_discrete_sequence = px.colors.qualitative.Prism)\n",
        "# fig.show()\n",
        "\n",
        "# fig = px.treemap(china_latest.sort_values(by='Deaths', ascending=False).reset_index(drop=True), \n",
        "#                  path=[\"Province/State\"], values=\"Deaths\", \n",
        "#                  title='Number of Deaths Reported in Chinese Provinces',\n",
        "#                  color_discrete_sequence = px.colors.qualitative.Prism)\n",
        "# fig.show()\n",
        "\n",
        "# fig = px.treemap(china_latest.sort_values(by='Recovered', ascending=False).reset_index(drop=True), \n",
        "#                  path=[\"Province/State\"], values=\"Recovered\", \n",
        "#                  title='Number of Recovered Cases in Chinese Provinces',\n",
        "#                  color_discrete_sequence = px.colors.qualitative.Prism)\n",
        "# fig.show()\n",
        "\n",
        "# # ----------------------------------------------------------------------------\n",
        "\n",
        "# fig = px.treemap(row_latest, path=[\"Country/Region\"], values=\"Confirmed\", \n",
        "#                  title='Number of Confirmed Cases outside china',\n",
        "#                  color_discrete_sequence = px.colors.qualitative.Pastel)\n",
        "# fig.show()\n",
        "\n",
        "# fig = px.treemap(row_latest, path=[\"Country/Region\"], values=\"Deaths\", \n",
        "#                  title='Number of Deaths outside china',\n",
        "#                  color_discrete_sequence = px.colors.qualitative.Pastel)\n",
        "# fig.show()\n",
        "\n",
        "# fig = px.treemap(row_latest, path=[\"Country/Region\"], values=\"Recovered\", \n",
        "#                  title='Number of Recovered Cases outside china',\n",
        "#                  color_discrete_sequence = px.colors.qualitative.Pastel)\n",
        "# fig.show()"
      ],
      "execution_count": 0,
      "outputs": []
    },
    {
      "cell_type": "markdown",
      "metadata": {
        "id": "s4LbIalS-fRc",
        "colab_type": "text"
      },
      "source": [
        "# Country Wise"
      ]
    },
    {
      "cell_type": "markdown",
      "metadata": {
        "id": "UaJ0_3rX-fRe",
        "colab_type": "text"
      },
      "source": [
        "### Confirmed cases"
      ]
    },
    {
      "cell_type": "code",
      "metadata": {
        "trusted": true,
        "_kg_hide-input": true,
        "id": "Noxaegc6-fRf",
        "colab_type": "code",
        "colab": {}
      },
      "source": [
        "temp = full_table.groupby(['Date', 'Country/Region'])['Confirmed'].sum()\n",
        "temp = temp.reset_index().sort_values(by=['Date', 'Country/Region'])\n",
        "\n",
        "plt.style.use('seaborn')\n",
        "g = sns.FacetGrid(temp, col=\"Country/Region\", hue=\"Country/Region\", \n",
        "                  sharey=False, col_wrap=5)\n",
        "g = g.map(plt.plot, \"Date\", \"Confirmed\")\n",
        "g.set_xticklabels(rotation=90)\n",
        "plt.show()"
      ],
      "execution_count": 0,
      "outputs": []
    },
    {
      "cell_type": "markdown",
      "metadata": {
        "id": "B-M_DqMh-fRh",
        "colab_type": "text"
      },
      "source": [
        "### New cases"
      ]
    },
    {
      "cell_type": "code",
      "metadata": {
        "trusted": true,
        "_kg_hide-input": true,
        "id": "UK3i-svz-fRi",
        "colab_type": "code",
        "colab": {}
      },
      "source": [
        "temp = full_table.groupby(['Country/Region', 'Date', ])['Confirmed', 'Deaths', 'Recovered']\n",
        "temp = temp.sum().diff().reset_index()\n",
        "\n",
        "mask = temp['Country/Region'] != temp['Country/Region'].shift(1)\n",
        "\n",
        "temp.loc[mask, 'Confirmed'] = np.nan\n",
        "temp.loc[mask, 'Deaths'] = np.nan\n",
        "temp.loc[mask, 'Recovered'] = np.nan\n",
        "\n",
        "plt.style.use('seaborn')\n",
        "g = sns.FacetGrid(temp, col=\"Country/Region\", hue=\"Country/Region\", \n",
        "                  sharey=False, col_wrap=5)\n",
        "g = g.map(sns.lineplot, \"Date\", \"Confirmed\")\n",
        "g.set_xticklabels(rotation=90)\n",
        "plt.show()"
      ],
      "execution_count": 0,
      "outputs": []
    },
    {
      "cell_type": "markdown",
      "metadata": {
        "id": "I3nLXgFl-fRl",
        "colab_type": "text"
      },
      "source": [
        "# Calander map"
      ]
    },
    {
      "cell_type": "markdown",
      "metadata": {
        "id": "6Cg_5VYN-fRl",
        "colab_type": "text"
      },
      "source": [
        "### Number of new cases every day"
      ]
    },
    {
      "cell_type": "code",
      "metadata": {
        "trusted": true,
        "_kg_hide-input": true,
        "id": "r41HxuEI-fRm",
        "colab_type": "code",
        "colab": {}
      },
      "source": [
        "temp = full_table.groupby('Date')['Confirmed'].sum()\n",
        "temp = temp.diff()\n",
        "\n",
        "plt.figure(figsize=(20, 5))\n",
        "ax = calmap.yearplot(temp, fillcolor='white', cmap='Reds', linewidth=0.5)"
      ],
      "execution_count": 0,
      "outputs": []
    },
    {
      "cell_type": "markdown",
      "metadata": {
        "id": "WEl554mA-fRp",
        "colab_type": "text"
      },
      "source": [
        "### Number of new countries every day"
      ]
    },
    {
      "cell_type": "code",
      "metadata": {
        "trusted": true,
        "_kg_hide-input": true,
        "id": "fk3VEWKl-fRr",
        "colab_type": "code",
        "colab": {}
      },
      "source": [
        "spread = full_table[full_table['Confirmed']!=0].groupby('Date')\n",
        "spread = spread['Country/Region'].unique().apply(len).diff()\n",
        "\n",
        "plt.figure(figsize=(20, 5))\n",
        "ax = calmap.yearplot(spread, fillcolor='white', cmap='Greens', linewidth=0.5)"
      ],
      "execution_count": 0,
      "outputs": []
    },
    {
      "cell_type": "markdown",
      "metadata": {
        "id": "6ZRkZIWQ-fRu",
        "colab_type": "text"
      },
      "source": [
        "# Comparison with other epidemics"
      ]
    },
    {
      "cell_type": "markdown",
      "metadata": {
        "id": "o_qoVb-Q-fRu",
        "colab_type": "text"
      },
      "source": [
        "https://www.kaggle.com/imdevskp/covid19-vs-sars-vs-mers-vs-ebola-vs-h1n1\n",
        "\n"
      ]
    },
    {
      "cell_type": "code",
      "metadata": {
        "_kg_hide-input": true,
        "trusted": true,
        "id": "hmUuK6H0-fRv",
        "colab_type": "code",
        "colab": {}
      },
      "source": [
        "epidemics = pd.DataFrame({\n",
        "    'epidemic' : ['COVID-19', 'SARS', 'EBOLA', 'MERS', 'H1N1'],\n",
        "    'start_year' : [2019, 2003, 2014, 2012, 2009],\n",
        "    'end_year' : [2020, 2004, 2016, 2017, 2010],\n",
        "    'confirmed' : [full_latest['Confirmed'].sum(), 8096, 28646, 2494, 6724149],\n",
        "    'deaths' : [full_latest['Deaths'].sum(), 774, 11323, 858, 19654]\n",
        "})\n",
        "\n",
        "epidemics['mortality'] = round((epidemics['deaths']/epidemics['confirmed'])*100, 2)\n",
        "\n",
        "epidemics.head()"
      ],
      "execution_count": 0,
      "outputs": []
    },
    {
      "cell_type": "code",
      "metadata": {
        "_kg_hide-input": true,
        "trusted": true,
        "id": "9hgsQ0XJ-fR1",
        "colab_type": "code",
        "colab": {}
      },
      "source": [
        "temp = epidemics.melt(id_vars='epidemic', value_vars=['confirmed', 'deaths', 'mortality'],\n",
        "                      var_name='Case', value_name='Value')\n",
        "\n",
        "fig = px.bar(temp, x=\"epidemic\", y=\"Value\", color='epidemic', text='Value', facet_col=\"Case\",\n",
        "             color_discrete_sequence = px.colors.qualitative.Bold)\n",
        "fig.update_traces(textposition='outside')\n",
        "fig.update_layout(uniformtext_minsize=8, uniformtext_mode='hide')\n",
        "fig.update_yaxes(showticklabels=False)\n",
        "fig.layout.yaxis2.update(matches=None)\n",
        "fig.layout.yaxis3.update(matches=None)\n",
        "fig.show()"
      ],
      "execution_count": 0,
      "outputs": []
    },
    {
      "cell_type": "markdown",
      "metadata": {
        "id": "zcbm0Wqh-fR4",
        "colab_type": "text"
      },
      "source": [
        "# Analysis on other epidemics"
      ]
    },
    {
      "cell_type": "markdown",
      "metadata": {
        "id": "gGh-ild3-fR5",
        "colab_type": "text"
      },
      "source": [
        "https://www.kaggle.com/imdevskp/mers-outbreak-analysis  \n",
        "https://www.kaggle.com/imdevskp/sars-2003-outbreak-analysis  \n",
        "https://www.kaggle.com/imdevskp/western-africa-ebola-outbreak-analysis\n"
      ]
    }
  ]
}